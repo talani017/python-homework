{
 "cells": [
  {
   "cell_type": "code",
   "execution_count": 1,
   "id": "a573a8b1-9d11-49fe-b4a1-6086b8a38301",
   "metadata": {
    "tags": []
   },
   "outputs": [],
   "source": [
    "import csv\n",
    "from pathlib import Path\n"
   ]
  },
  {
   "cell_type": "code",
   "execution_count": 2,
   "id": "13ad18fd-1735-4c5f-a4fb-cccf41a17e30",
   "metadata": {
    "tags": []
   },
   "outputs": [],
   "source": [
    "input_file= Path(\"budget_data (1).csv\")   # prviding the path of the file\n",
    "outputfile =Path(\"analysis.txt\")"
   ]
  },
  {
   "cell_type": "code",
   "execution_count": 3,
   "id": "bc254669-63ef-449b-b0d4-706ed863aab7",
   "metadata": {
    "tags": []
   },
   "outputs": [],
   "source": [
    "current_gain=0                        #initialising the  variable that keeps track of current gain\n",
    "previous_gain=0                        #initialising the  variable that keeps track of previous gain\n",
    "net_gain=0                           #initialising the net gain variable\n",
    "change=0                             # variable keeping track of change in gain from one month to other and initialising it to 0\n",
    "monthcount=0                           #initialising the  variable that keeps track of number of months\n",
    "increase_largest=[\"\", 0]               # initialising the largest increase list, the largest decrease list , the gain list, and the month list \n",
    "decrease_largest=[\"\", 100000000000]\n",
    "month_list =[]\n",
    "gainlist=[]\n",
    "change_list=[]"
   ]
  },
  {
   "cell_type": "code",
   "execution_count": 4,
   "id": "1808e151-52a2-4655-ae91-72760c5897e1",
   "metadata": {
    "tags": []
   },
   "outputs": [],
   "source": [
    "with open(input_file) as data_1:\n",
    "    gainloss_data=csv.reader(data_1)     # reading the csv file\n",
    "    gainloss_data\n",
    "    header=next(gainloss_data)\n",
    "    \n",
    "    for row in gainloss_data:\n",
    "        current_gain=int(row[1])\n",
    "        net_gain=net_gain+int(row[1])      # using for loop to update changes in the various lists\n",
    "        month_list=month_list+[row[0]]\n",
    "        gainlist=gainlist+[int(row[1])]\n",
    "        monthcount=monthcount+1\n",
    "        change=current_gain - previous_gain\n",
    "        change_list=change_list+[change]\n",
    "        previous_gain=int(row[1])\n",
    "        if change>=increase_largest[1]:          # finding the largest increase and largest decrease in gains\n",
    "            increase_largest[1]=change\n",
    "            increase_largest[0]=row[0]\n",
    "        elif change<=decrease_largest[1]:\n",
    "            decrease_largest[0]=row[0]\n",
    "            decrease_largest[1]=change\n",
    "        "
   ]
  },
  {
   "cell_type": "code",
   "execution_count": 5,
   "id": "1ac2a807-e992-46ad-9d1c-22fea78f1d5a",
   "metadata": {
    "tags": []
   },
   "outputs": [
    {
     "data": {
      "text/plain": [
       "86"
      ]
     },
     "execution_count": 5,
     "metadata": {},
     "output_type": "execute_result"
    }
   ],
   "source": [
    "monthcount"
   ]
  },
  {
   "cell_type": "code",
   "execution_count": 6,
   "id": "e66fc613-87fb-4869-8fd4-a10fe4c7904b",
   "metadata": {
    "tags": []
   },
   "outputs": [
    {
     "data": {
      "text/plain": [
       "38382578"
      ]
     },
     "execution_count": 6,
     "metadata": {},
     "output_type": "execute_result"
    }
   ],
   "source": [
    "sum(gainlist)"
   ]
  },
  {
   "cell_type": "code",
   "execution_count": 7,
   "id": "f1b40889-b708-48f5-9b26-1cbec2fbc48d",
   "metadata": {
    "tags": []
   },
   "outputs": [
    {
     "name": "stdout",
     "output_type": "stream",
     "text": [
      "The average change is -2315.1176470588234\n"
     ]
    }
   ],
   "source": [
    "avg_change=(sum(change_list)-change_list[0])/(len(change_list)-1) # subtracting the first entry, since it doesn't denote any change in the gain and hence we also dive by the length of change list minus 1, since these are the number of periods which captutre the change in gains\n",
    "print(f\"The average change is {avg_change}\")"
   ]
  },
  {
   "cell_type": "code",
   "execution_count": 8,
   "id": "690026d9-337d-40f0-96d9-ceb9d256ba72",
   "metadata": {
    "tags": []
   },
   "outputs": [
    {
     "data": {
      "text/plain": [
       "['Feb-2012', 1926159]"
      ]
     },
     "execution_count": 8,
     "metadata": {},
     "output_type": "execute_result"
    }
   ],
   "source": [
    "increase_largest"
   ]
  },
  {
   "cell_type": "code",
   "execution_count": 9,
   "id": "24f87fa0-b316-41fb-abc9-a384f8aa8ae9",
   "metadata": {
    "tags": []
   },
   "outputs": [
    {
     "data": {
      "text/plain": [
       "['Sep-2013', -2196167]"
      ]
     },
     "execution_count": 9,
     "metadata": {},
     "output_type": "execute_result"
    }
   ],
   "source": [
    "decrease_largest"
   ]
  },
  {
   "cell_type": "code",
   "execution_count": 10,
   "id": "c3033438-45e0-4c39-94ad-6d9a28d52b20",
   "metadata": {
    "tags": []
   },
   "outputs": [],
   "source": [
    "with open(outputfile,'w')as file:\n",
    "    file.write(\"Financial Analysis.\\n\")\n",
    "    file.write(\"---------------------------.\\n\")\n",
    "    file.write(f\"Total months is:86 .\\n\")\n",
    "    file.write(f\"Total:38382578.\\n\") \n",
    "    file.write(f\"Greatest increase in profits is in Feb 2012($1926159) .\\n\")\n",
    "    file.write(f\"Greatest decrease in profits is in Sept 2013($-2196167) .\\n\")           \n",
    "    \n",
    "    "
   ]
  },
  {
   "cell_type": "code",
   "execution_count": null,
   "id": "379496eb-f2ad-40a5-aa10-9009e9410946",
   "metadata": {},
   "outputs": [],
   "source": []
  }
 ],
 "metadata": {
  "kernelspec": {
   "display_name": "Python 3 (ipykernel)",
   "language": "python",
   "name": "python3"
  },
  "language_info": {
   "codemirror_mode": {
    "name": "ipython",
    "version": 3
   },
   "file_extension": ".py",
   "mimetype": "text/x-python",
   "name": "python",
   "nbconvert_exporter": "python",
   "pygments_lexer": "ipython3",
   "version": "3.11.4"
  }
 },
 "nbformat": 4,
 "nbformat_minor": 5
}
